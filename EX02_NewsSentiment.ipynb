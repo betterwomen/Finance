{
 "cells": [
  {
   "cell_type": "code",
   "execution_count": 6,
   "metadata": {},
   "outputs": [],
   "source": [
    "# Import libraries\n",
    "from urllib.request import urlopen, Request\n",
    "from bs4 import BeautifulSoup\n",
    "import os\n",
    "import pandas as pd\n",
    "from nltk.sentiment.vader import SentimentIntensityAnalyzer\n",
    "import plotly.graph_objects as go\\\n",
    "\n",
    "finwiz_url = 'https://finviz.com/quote.ashx?t='"
   ]
  },
  {
   "cell_type": "code",
   "execution_count": 7,
   "metadata": {},
   "outputs": [],
   "source": [
    "news_tables = {}\n",
    "# tickers = ['AMZN', 'TSLA', 'GOOG', 'NFLX', 'NIO']\n",
    "tickers = ['NIO']\n",
    "\n",
    "for ticker in tickers:\n",
    "    url = finwiz_url + ticker\n",
    "    req = Request(url=url,headers={'user-agent': 'my-app/0.0.1'}) \n",
    "    response = urlopen(req)    \n",
    "    # Read the contents of the file into 'html'\n",
    "    html = BeautifulSoup(response)\n",
    "    # Find 'news-table' in the Soup and load it into 'news_table'\n",
    "    news_table = html.find(id='news-table')\n",
    "    # Add the table to our dictionary\n",
    "    news_tables[ticker] = news_table"
   ]
  },
  {
   "cell_type": "code",
   "execution_count": 8,
   "metadata": {},
   "outputs": [
    {
     "data": {
      "text/plain": [
       "[['NIO',\n",
       "  'Jul-16-20',\n",
       "  '04:25PM',\n",
       "  'Tesla Inc. stock underperforms Thursday when compared to competitors'],\n",
       " ['NIO',\n",
       "  'Jul-16-20',\n",
       "  '10:48AM',\n",
       "  \"Nikola's stock falls after Deutsche Bank analyst talks bullishly but doesn't recommend buying\"],\n",
       " ['NIO', 'Jul-15-20', '02:34PM', 'Why NIO Stock Is Slipping Today'],\n",
       " ['NIO',\n",
       "  'Jul-14-20',\n",
       "  '10:25AM',\n",
       "  \"NIO Soars More Than 350% in 3 Months: What's Driving it?\"],\n",
       " ['NIO',\n",
       "  'Jul-13-20',\n",
       "  '11:14AM',\n",
       "  'Chinese EV Manufacturer Li Auto Files For Nasdaq Listing'],\n",
       " ['NIO',\n",
       "  'Jul-13-20',\n",
       "  '08:45AM',\n",
       "  'EV Stocks are Shooting the Lights Out: Is it Just a Bubble?'],\n",
       " ['NIO',\n",
       "  'Jul-11-20',\n",
       "  '04:48AM',\n",
       "  'Chinese EV maker Li Auto files for U.S. listing'],\n",
       " ['NIO',\n",
       "  'Jul-10-20',\n",
       "  '03:11PM',\n",
       "  'Get in the Drivers Seat Now and Trade These 3 EV Stocks'],\n",
       " ['NIO',\n",
       "  'Jul-10-20',\n",
       "  '02:59PM',\n",
       "  'Electric Vehicle Stocks Remain Hot. 2 That Are Making News.'],\n",
       " ['NIO',\n",
       "  'Jul-10-20',\n",
       "  '07:06AM',\n",
       "  '3 Things NIO Stock Bulls Need to Happen Soon'],\n",
       " ['NIO',\n",
       "  'Jul-09-20',\n",
       "  '04:15PM',\n",
       "  'Why NIO Stock Continued Its Run on Thursday'],\n",
       " ['NIO',\n",
       "  'Jul-09-20',\n",
       "  '02:51PM',\n",
       "  'Tesla and NIO Stock Are Skyrocketing. Blame Retail Traders.'],\n",
       " ['NIO',\n",
       "  'Jul-09-20',\n",
       "  '09:07AM',\n",
       "  'China Auto Sales Recovery on Shaky Ground: What Lies Ahead?'],\n",
       " ['NIO',\n",
       "  'Jul-08-20',\n",
       "  '04:36PM',\n",
       "  'Why NIO, Tesla, and Other EV Stocks Might Be in Bubble Territory'],\n",
       " ['NIO',\n",
       "  'Jul-08-20',\n",
       "  '02:11PM',\n",
       "  \"Why Nikola shares 'look attractive' long-term: JPMorgan analyst\"],\n",
       " ['NIO',\n",
       "  'Jul-08-20',\n",
       "  '01:15PM',\n",
       "  'Tesla stock is a gigantic bubble on the verge of exploding: strategist'],\n",
       " ['NIO',\n",
       "  'Jul-08-20',\n",
       "  '11:22AM',\n",
       "  'Electric car market heats up: Tesla, Nikola, Nio in focus'],\n",
       " ['NIO', 'Jul-08-20', '10:56AM', \"Why NIO's Stock Surge Is Continuing\"],\n",
       " ['NIO',\n",
       "  'Jul-08-20',\n",
       "  '10:23AM',\n",
       "  \"Nio's stock surges on heavy volume toward longest win streak in 6 months\"],\n",
       " ['NIO', 'Jul-07-20', '02:17PM', 'Why NIO Stock Is Up Again Today'],\n",
       " ['NIO',\n",
       "  'Jul-07-20',\n",
       "  '11:07AM',\n",
       "  'Nio Soars and Could Double From Current Levels'],\n",
       " ['NIO', 'Jul-07-20', '04:32AM', 'NIO Drives Higher On Upbeat June Sales'],\n",
       " ['NIO',\n",
       "  'Jul-06-20',\n",
       "  '10:22PM',\n",
       "  'Teslas stock soars to 4th-straight record as Wall Streets biggest bear raises price target'],\n",
       " ['NIO', 'Jul-06-20', '11:00AM', 'Why NIO Stock Is Flying Today'],\n",
       " ['NIO',\n",
       "  'Jul-06-20',\n",
       "  '09:27AM',\n",
       "  \"Auto Stock Roundup: General Motors' $223M Contract, Ford-Disney Pact & More\"],\n",
       " ['NIO',\n",
       "  'Jul-06-20',\n",
       "  '08:22AM',\n",
       "  \"Nio's stock rockets toward a near 2-year high after upbeat report on June sales\"],\n",
       " ['NIO',\n",
       "  'Jul-03-20',\n",
       "  '08:46AM',\n",
       "  'EV Stocks on Fire: Will Tesla Make it to the S&P 500 List?'],\n",
       " ['NIO',\n",
       "  'Jul-02-20',\n",
       "  '03:39PM',\n",
       "  '4 Top Stock Trades for Monday: NIO, DOCU, JPM, MRNA'],\n",
       " ['NIO',\n",
       "  'Jul-02-20',\n",
       "  '01:58PM',\n",
       "  'How to Approach Nio Stock At New All-Time Highs'],\n",
       " ['NIO',\n",
       "  'Jul-02-20',\n",
       "  '01:46PM',\n",
       "  \"Nio shares rally 16% after electric-car company's above-expectations sales\"],\n",
       " ['NIO',\n",
       "  'Jul-02-20',\n",
       "  '04:00AM',\n",
       "  'NIO Inc. Provides June and Second Quarter 2020 Delivery Update'],\n",
       " ['NIO',\n",
       "  'Jul-01-20',\n",
       "  '12:29PM',\n",
       "  \"Workhorse's stock set to snap record win streak, while BTIG analyst nearly doubles price target\"],\n",
       " ['NIO',\n",
       "  'Jun-30-20',\n",
       "  '09:56AM',\n",
       "  \"Workhorse's stock soars toward record win streak and record close after $70 million securities purchase agreement\"],\n",
       " ['NIO',\n",
       "  'Jun-30-20',\n",
       "  '09:51AM',\n",
       "  'Foreign Auto Industry Outlook: Multiple Headwinds Prevail'],\n",
       " ['NIO',\n",
       "  'Jun-30-20',\n",
       "  '09:42AM',\n",
       "  'NIO China Receives First Two Installments of Cash Infusion'],\n",
       " ['NIO',\n",
       "  'Jun-29-20',\n",
       "  '03:19PM',\n",
       "  'EV Truck Company Hyliion Is Soaring  and It Isnt Even Publicly Traded Yet'],\n",
       " ['NIO',\n",
       "  'Jun-29-20',\n",
       "  '02:16PM',\n",
       "  'Workhorse stock soars on heavy volume, has more than tripled amid 8-day win streak'],\n",
       " ['NIO',\n",
       "  'Jun-29-20',\n",
       "  '12:21PM',\n",
       "  \"Nio China's Strategic Investors Complete First 2 Installments Of Cash Injection\"],\n",
       " ['NIO',\n",
       "  'Jun-29-20',\n",
       "  '04:00AM',\n",
       "  'NIO Announces Substantial Completion of Cash Injections into NIO China in June'],\n",
       " ['NIO',\n",
       "  'Jun-26-20',\n",
       "  '03:51PM',\n",
       "  'Hedge Funds Cautiously Watching NIO Inc. (NIO)'],\n",
       " ['NIO',\n",
       "  'Jun-26-20',\n",
       "  '09:57AM',\n",
       "  'Niu Technologies Stock Is a Perfect Play on Millennial Trends'],\n",
       " ['NIO',\n",
       "  'Jun-25-20',\n",
       "  '06:37PM',\n",
       "  'Electric Vehicle Companies Seeing Big Numbers'],\n",
       " ['NIO',\n",
       "  'Jun-25-20',\n",
       "  '07:38AM',\n",
       "  'Another Electric Pickup Truck Is Coming Today. Heres What You Need to Know.'],\n",
       " ['NIO', 'Jun-24-20', '04:03PM', 'PreMarket Prep Stock Of The Day: Nio'],\n",
       " ['NIO',\n",
       "  'Jun-24-20',\n",
       "  '10:27AM',\n",
       "  'Electric Van Maker Workhorse Soars as Market Tanks'],\n",
       " ['NIO',\n",
       "  'Jun-24-20',\n",
       "  '09:41AM',\n",
       "  \"Nio's Outsized June Gains Push Goldman Sachs To The Sideline\"],\n",
       " ['NIO',\n",
       "  'Jun-24-20',\n",
       "  '09:14AM',\n",
       "  \"Nio's stock falls after Goldman analyst downgrade, 3 weeks after turning bullish\"],\n",
       " ['NIO',\n",
       "  'Jun-24-20',\n",
       "  '08:52AM',\n",
       "  'EV Stocks Are on Fire and Wall Street Cant Keep Up'],\n",
       " ['NIO',\n",
       "  'Jun-22-20',\n",
       "  '01:55PM',\n",
       "  \"'We are going to see a down in the gutter type' Trump and Biden presidential campaigns: analyst\"],\n",
       " ['NIO',\n",
       "  'Jun-22-20',\n",
       "  '01:49PM',\n",
       "  \"Ideanomics' stock soars on heavy volume after order for 200 EVs in China\"],\n",
       " ['NIO',\n",
       "  'Jun-22-20',\n",
       "  '05:55AM',\n",
       "  'Nio Rising In Pre-Market Following Tencent Stake Disclosure'],\n",
       " ['NIO',\n",
       "  'Jun-19-20',\n",
       "  '02:54PM',\n",
       "  'Tesla Rival, NIO, Higher on 3 Record-Breaking Deliveries'],\n",
       " ['NIO',\n",
       "  'Jun-18-20',\n",
       "  '12:12PM',\n",
       "  \"Nio's stock surges toward 15-month high on NYSE leading volume\"],\n",
       " ['NIO', 'Jun-18-20', '10:27AM', 'Price Over Earnings Overview: NIO'],\n",
       " ['NIO',\n",
       "  'Jun-17-20',\n",
       "  '06:31PM',\n",
       "  'Lyfts Move Shows Electric Vehicles Are Taking Over'],\n",
       " ['NIO',\n",
       "  'Jun-17-20',\n",
       "  '04:36PM',\n",
       "  'Nikola Stock Got Its First Rating From Wall Street. Its a Buy.'],\n",
       " ['NIO',\n",
       "  'Jun-16-20',\n",
       "  '02:17PM',\n",
       "  \"Nio Hits BofA's Recently Revised Price Target In June Rally\"],\n",
       " ['NIO',\n",
       "  'Jun-16-20',\n",
       "  '10:33AM',\n",
       "  \"Nikola 'Prime Target' for Short Squeeze As Borrow Fees Explode\"],\n",
       " ['NIO', 'Jun-16-20', '10:32AM', 'Why NIO Stock Is Up Today'],\n",
       " ['NIO',\n",
       "  'Jun-16-20',\n",
       "  '02:26AM',\n",
       "  'Nio Completes $428M ADS Offering, Stock Now Up 70% YTD'],\n",
       " ['NIO',\n",
       "  'Jun-15-20',\n",
       "  '04:30PM',\n",
       "  'NIO Inc. Announces Completion of Offering of American Depositary Shares'],\n",
       " ['NIO',\n",
       "  'Jun-12-20',\n",
       "  '03:58PM',\n",
       "  'Nios Resurgence Highlights the Emerging Global Electric-Vehicle Market'],\n",
       " ['NIO',\n",
       "  'Jun-12-20',\n",
       "  '11:31AM',\n",
       "  'The 5 Best Electric Car Stocks to Buy for the Next 10 Years'],\n",
       " ['NIO',\n",
       "  'Jun-12-20',\n",
       "  '10:49AM',\n",
       "  'Nio Analyst Projects Upside On Stronger Orders, Improving Margins, Cash Flow'],\n",
       " ['NIO',\n",
       "  'Jun-11-20',\n",
       "  '11:37AM',\n",
       "  'NIO Sold More Shares Than Planned, Raising $428 Million'],\n",
       " ['NIO',\n",
       "  'Jun-11-20',\n",
       "  '04:20AM',\n",
       "  'NIO Inc. Announces Pricing of Offering of 72,000,000 American Depositary Shares'],\n",
       " ['NIO',\n",
       "  'Jun-10-20',\n",
       "  '09:54AM',\n",
       "  'Resurgent Nio Taps Equity Market To Ease Liquidity Crunch, Finance Progress'],\n",
       " ['NIO',\n",
       "  'Jun-10-20',\n",
       "  '09:18AM',\n",
       "  'NIO to Offer 60 Million New Shares to Raise Cash for China Deal'],\n",
       " ['NIO',\n",
       "  'Jun-10-20',\n",
       "  '01:56AM',\n",
       "  'Nio Sinks After-Hours On Proposed 60M ADS Offering'],\n",
       " ['NIO',\n",
       "  'Jun-09-20',\n",
       "  '05:35PM',\n",
       "  'NIO Inc. Announces Proposed Offering of 60,000,000 American Depositary Shares'],\n",
       " ['NIO', 'Jun-09-20', '02:29PM', 'Why NIO Stock Is Up Today'],\n",
       " ['NIO',\n",
       "  'Jun-09-20',\n",
       "  '08:08AM',\n",
       "  'Tesla Vs. Nio Vs. Xpeng: A Look At The Chinese Electric Vehicle Market'],\n",
       " ['NIO',\n",
       "  'Jun-08-20',\n",
       "  '09:02AM',\n",
       "  'Tesla Was Top-Selling Chinese EV Brand In May, Sales Jump 205%: Report'],\n",
       " ['NIO',\n",
       "  'Jun-05-20',\n",
       "  '12:02PM',\n",
       "  'You Havent (Yet) Missed the Nio Opportunity'],\n",
       " ['NIO', 'Jun-05-20', '08:52AM', 'NIO Looks Good: Stock Adds 6.6% in Session'],\n",
       " ['NIO',\n",
       "  'Jun-05-20',\n",
       "  '08:51AM',\n",
       "  \"Do Options Traders Know Something About NIO Stock We Don't?\"],\n",
       " ['NIO',\n",
       "  'Jun-04-20',\n",
       "  '02:07PM',\n",
       "  'Lamborghini sales stay hot with stock market soaring again: CEO'],\n",
       " ['NIO', 'Jun-04-20', '10:37AM', 'Nio reports record deliveries in May'],\n",
       " ['NIO',\n",
       "  'Jun-04-20',\n",
       "  '09:00AM',\n",
       "  'NIO Stock Retests Highs After Goldman Sachs Upgrade'],\n",
       " ['NIO',\n",
       "  'Jun-04-20',\n",
       "  '08:35AM',\n",
       "  'Nio Shares Extend Rally As Chinese EV Manufacturer Reports Record May Deliveries'],\n",
       " ['NIO',\n",
       "  'Jun-04-20',\n",
       "  '08:13AM',\n",
       "  'Nio stock surges after company posts record-high deliveries for May'],\n",
       " ['NIO',\n",
       "  'Jun-04-20',\n",
       "  '06:59AM',\n",
       "  'Nio Rising On Record-High Monthly Deliveries, Goldman Sachs Upgrade'],\n",
       " ['NIO', 'Jun-04-20', '04:00AM', 'NIO Inc. Provides May 2020 Delivery Update'],\n",
       " ['NIO',\n",
       "  'Jun-03-20',\n",
       "  '01:58PM',\n",
       "  'Chinese EV Maker Xpeng Motors Seeks $500M US IPO: Report'],\n",
       " ['NIO',\n",
       "  'Jun-03-20',\n",
       "  '01:10PM',\n",
       "  'How Tesla Helped a Rival Get a Buy Rating From Goldman Sachs'],\n",
       " ['NIO', 'Jun-03-20', '11:47AM', 'Why NIO Stock Is Up Today'],\n",
       " ['NIO',\n",
       "  'Jun-03-20',\n",
       "  '11:25AM',\n",
       "  'Nio stock rallies 15% after Goldman Sachs upgrades it to buy'],\n",
       " ['NIO',\n",
       "  'Jun-01-20',\n",
       "  '10:00PM',\n",
       "  \"Geely's Polestar plans China showroom expansion to compete with Tesla -sources\"],\n",
       " ['NIO',\n",
       "  'Jun-01-20',\n",
       "  '07:15AM',\n",
       "  'Nio CEO Says Tesla An Ally In Increasing Sales, Remains Bullish On Chinese EV Market Growth'],\n",
       " ['NIO',\n",
       "  'May-28-20',\n",
       "  '08:31PM',\n",
       "  'NIO Inc. (NIO) Q1 2020 Earnings Call Transcript'],\n",
       " ['NIO',\n",
       "  'May-28-20',\n",
       "  '09:34AM',\n",
       "  'NIO Earnings Show Chinas EV Market Is Rebounding. Thats Good for Tesla.'],\n",
       " ['NIO',\n",
       "  'May-28-20',\n",
       "  '07:47AM',\n",
       "  'Nio Reports Mixed Q1 Results, Chinese EV Manufacturer Guides To Strong Q2'],\n",
       " ['NIO',\n",
       "  'May-28-20',\n",
       "  '07:23AM',\n",
       "  'Electric vehicle maker Nio eyes listing of new China entity'],\n",
       " ['NIO',\n",
       "  'May-28-20',\n",
       "  '06:37AM',\n",
       "  'Nio reports narrower-than-expected loss and revenue that beat forecasts, but stock pulls back'],\n",
       " ['NIO',\n",
       "  'May-28-20',\n",
       "  '06:33AM',\n",
       "  \"China's Nio quarterly revenue misses estimates on COVID-19 hit\"],\n",
       " ['NIO',\n",
       "  'May-28-20',\n",
       "  '06:19AM',\n",
       "  \"China's Nio posts quarterly revenue below estimates\"],\n",
       " ['NIO',\n",
       "  'May-28-20',\n",
       "  '06:00AM',\n",
       "  'NIO Inc. Reports Unaudited First Quarter 2020 Financial Results'],\n",
       " ['NIO', 'May-27-20', '03:34PM', 'Why NIO Stock Is Rising Today'],\n",
       " ['NIO', 'May-27-20', '01:43PM', 'NIO Stock Jumps on Another Analyst Upgrade'],\n",
       " ['NIO',\n",
       "  'May-27-20',\n",
       "  '12:36PM',\n",
       "  'NIO Stock Was Upgraded Ahead of Earnings. Heres What That Means For Tesla.']]"
      ]
     },
     "execution_count": 8,
     "metadata": {},
     "output_type": "execute_result"
    }
   ],
   "source": [
    "parsed_news = []\n",
    "\n",
    "# Iterate through the news\n",
    "for file_name, news_table in news_tables.items():\n",
    "    # Iterate through all tr tags in 'news_table'\n",
    "    for x in news_table.findAll('tr'):\n",
    "        # read the text from each tr tag into text\n",
    "        # get text from a only\n",
    "        text = x.a.get_text() \n",
    "        # splite text in the td tag into a list \n",
    "        date_scrape = x.td.text.split()\n",
    "        # if the length of 'date_scrape' is 1, load 'time' as the only element\n",
    "\n",
    "        if len(date_scrape) == 1:\n",
    "            time = date_scrape[0]\n",
    "            \n",
    "        # else load 'date' as the 1st element and 'time' as the second    \n",
    "        else:\n",
    "            date = date_scrape[0]\n",
    "            time = date_scrape[1]\n",
    "        # Extract the ticker from the file name, get the string up to the 1st '_'  \n",
    "        ticker = file_name.split('_')[0]\n",
    "        \n",
    "        # Append ticker, date, time and headline as a list to the 'parsed_news' list\n",
    "        parsed_news.append([ticker, date, time, text])\n",
    "        \n",
    "parsed_news"
   ]
  },
  {
   "cell_type": "code",
   "execution_count": 9,
   "metadata": {},
   "outputs": [
    {
     "data": {
      "text/html": [
       "<div>\n",
       "<style scoped>\n",
       "    .dataframe tbody tr th:only-of-type {\n",
       "        vertical-align: middle;\n",
       "    }\n",
       "\n",
       "    .dataframe tbody tr th {\n",
       "        vertical-align: top;\n",
       "    }\n",
       "\n",
       "    .dataframe thead th {\n",
       "        text-align: right;\n",
       "    }\n",
       "</style>\n",
       "<table border=\"1\" class=\"dataframe\">\n",
       "  <thead>\n",
       "    <tr style=\"text-align: right;\">\n",
       "      <th></th>\n",
       "      <th>ticker</th>\n",
       "      <th>date</th>\n",
       "      <th>time</th>\n",
       "      <th>headline</th>\n",
       "      <th>neg</th>\n",
       "      <th>neu</th>\n",
       "      <th>pos</th>\n",
       "      <th>compound</th>\n",
       "    </tr>\n",
       "  </thead>\n",
       "  <tbody>\n",
       "    <tr>\n",
       "      <th>0</th>\n",
       "      <td>NIO</td>\n",
       "      <td>2020-07-16</td>\n",
       "      <td>04:25PM</td>\n",
       "      <td>Tesla Inc. stock underperforms Thursday when c...</td>\n",
       "      <td>0.000</td>\n",
       "      <td>1.000</td>\n",
       "      <td>0.0</td>\n",
       "      <td>0.000</td>\n",
       "    </tr>\n",
       "    <tr>\n",
       "      <th>1</th>\n",
       "      <td>NIO</td>\n",
       "      <td>2020-07-16</td>\n",
       "      <td>10:48AM</td>\n",
       "      <td>Nikola's stock falls after Deutsche Bank analy...</td>\n",
       "      <td>0.182</td>\n",
       "      <td>0.818</td>\n",
       "      <td>0.0</td>\n",
       "      <td>-0.395</td>\n",
       "    </tr>\n",
       "    <tr>\n",
       "      <th>2</th>\n",
       "      <td>NIO</td>\n",
       "      <td>2020-07-15</td>\n",
       "      <td>02:34PM</td>\n",
       "      <td>Why NIO Stock Is Slipping Today</td>\n",
       "      <td>0.000</td>\n",
       "      <td>1.000</td>\n",
       "      <td>0.0</td>\n",
       "      <td>0.000</td>\n",
       "    </tr>\n",
       "    <tr>\n",
       "      <th>3</th>\n",
       "      <td>NIO</td>\n",
       "      <td>2020-07-14</td>\n",
       "      <td>10:25AM</td>\n",
       "      <td>NIO Soars More Than 350% in 3 Months: What's D...</td>\n",
       "      <td>0.000</td>\n",
       "      <td>1.000</td>\n",
       "      <td>0.0</td>\n",
       "      <td>0.000</td>\n",
       "    </tr>\n",
       "    <tr>\n",
       "      <th>4</th>\n",
       "      <td>NIO</td>\n",
       "      <td>2020-07-13</td>\n",
       "      <td>11:14AM</td>\n",
       "      <td>Chinese EV Manufacturer Li Auto Files For Nasd...</td>\n",
       "      <td>0.000</td>\n",
       "      <td>1.000</td>\n",
       "      <td>0.0</td>\n",
       "      <td>0.000</td>\n",
       "    </tr>\n",
       "  </tbody>\n",
       "</table>\n",
       "</div>"
      ],
      "text/plain": [
       "  ticker        date     time  \\\n",
       "0    NIO  2020-07-16  04:25PM   \n",
       "1    NIO  2020-07-16  10:48AM   \n",
       "2    NIO  2020-07-15  02:34PM   \n",
       "3    NIO  2020-07-14  10:25AM   \n",
       "4    NIO  2020-07-13  11:14AM   \n",
       "\n",
       "                                            headline    neg    neu  pos  \\\n",
       "0  Tesla Inc. stock underperforms Thursday when c...  0.000  1.000  0.0   \n",
       "1  Nikola's stock falls after Deutsche Bank analy...  0.182  0.818  0.0   \n",
       "2                    Why NIO Stock Is Slipping Today  0.000  1.000  0.0   \n",
       "3  NIO Soars More Than 350% in 3 Months: What's D...  0.000  1.000  0.0   \n",
       "4  Chinese EV Manufacturer Li Auto Files For Nasd...  0.000  1.000  0.0   \n",
       "\n",
       "   compound  \n",
       "0     0.000  \n",
       "1    -0.395  \n",
       "2     0.000  \n",
       "3     0.000  \n",
       "4     0.000  "
      ]
     },
     "execution_count": 9,
     "metadata": {},
     "output_type": "execute_result"
    }
   ],
   "source": [
    "# Instantiate the sentiment intensity analyzer\n",
    "vader = SentimentIntensityAnalyzer()\n",
    "\n",
    "# Set column names\n",
    "columns = ['ticker', 'date', 'time', 'headline']\n",
    "\n",
    "# Convert the parsed_news list into a DataFrame called 'parsed_and_scored_news'\n",
    "parsed_and_scored_news = pd.DataFrame(parsed_news, columns=columns)\n",
    "\n",
    "# Iterate through the headlines and get the polarity scores using vader\n",
    "scores = parsed_and_scored_news['headline'].apply(vader.polarity_scores).tolist()\n",
    "\n",
    "# Convert the 'scores' list of dicts into a DataFrame\n",
    "scores_df = pd.DataFrame(scores)\n",
    "\n",
    "# Join the DataFrames of the news and the list of dicts\n",
    "parsed_and_scored_news = parsed_and_scored_news.join(scores_df, rsuffix='_right')\n",
    "\n",
    "# Convert the date column from string to datetime\n",
    "parsed_and_scored_news['date'] = pd.to_datetime(parsed_and_scored_news.date).dt.date\n",
    "\n",
    "parsed_and_scored_news.head()"
   ]
  },
  {
   "cell_type": "code",
   "execution_count": 12,
   "metadata": {},
   "outputs": [
    {
     "name": "stdout",
     "output_type": "stream",
     "text": [
      "                        neg       neu       pos  compound\n",
      "ticker date                                              \n",
      "NIO    2020-05-27  0.000000  1.000000  0.000000  0.000000\n",
      "       2020-05-28  0.039125  0.905875  0.055000  0.069900\n",
      "       2020-06-01  0.000000  0.926000  0.074000  0.190900\n",
      "       2020-06-03  0.000000  1.000000  0.000000  0.000000\n",
      "       2020-06-04  0.000000  0.959857  0.040143  0.062914\n",
      "       2020-06-05  0.000000  0.741000  0.259000  0.336867\n",
      "       2020-06-08  0.000000  1.000000  0.000000  0.000000\n",
      "       2020-06-09  0.000000  0.934667  0.065333  0.098667\n",
      "       2020-06-10  0.000000  0.824667  0.175333  0.314867\n",
      "       2020-06-11  0.000000  0.791000  0.209000  0.327850\n",
      "       2020-06-12  0.000000  0.783000  0.217000  0.432200\n",
      "       2020-06-15  0.000000  0.804000  0.196000  0.296000\n",
      "       2020-06-16  0.000000  1.000000  0.000000  0.000000\n",
      "       2020-06-17  0.000000  1.000000  0.000000  0.000000\n",
      "       2020-06-18  0.000000  1.000000  0.000000  0.000000\n",
      "       2020-06-19  0.000000  1.000000  0.000000  0.000000\n",
      "       2020-06-22  0.000000  1.000000  0.000000  0.000000\n",
      "       2020-06-24  0.038800  0.919000  0.042200  0.000000\n",
      "       2020-06-25  0.000000  1.000000  0.000000  0.000000\n",
      "       2020-06-26  0.000000  0.767000  0.233000  0.363450\n",
      "       2020-06-29  0.000000  0.908250  0.091750  0.197050\n",
      "       2020-06-30  0.000000  0.862000  0.138000  0.282700\n",
      "       2020-07-01  0.000000  0.787000  0.213000  0.585900\n",
      "       2020-07-02  0.000000  0.900000  0.100000  0.124575\n",
      "       2020-07-03  0.167000  0.833000  0.000000 -0.340000\n",
      "       2020-07-06  0.000000  1.000000  0.000000  0.000000\n",
      "       2020-07-07  0.000000  1.000000  0.000000  0.000000\n",
      "       2020-07-08  0.000000  0.880667  0.119333  0.201800\n",
      "       2020-07-09  0.200333  0.799667  0.000000 -0.303967\n",
      "       2020-07-10  0.000000  1.000000  0.000000  0.000000\n",
      "       2020-07-11  0.000000  1.000000  0.000000  0.000000\n",
      "       2020-07-13  0.000000  1.000000  0.000000  0.000000\n",
      "       2020-07-14  0.000000  1.000000  0.000000  0.000000\n",
      "       2020-07-15  0.000000  1.000000  0.000000  0.000000\n",
      "       2020-07-16  0.091000  0.909000  0.000000 -0.197500\n",
      "              neg                                                         \\\n",
      "date   2020-05-27 2020-05-28 2020-06-01 2020-06-03 2020-06-04 2020-06-05   \n",
      "ticker                                                                     \n",
      "NIO           0.0   0.039125        0.0        0.0        0.0        0.0   \n",
      "\n",
      "                                                    ...   compound             \\\n",
      "date   2020-06-08 2020-06-09 2020-06-10 2020-06-11  ... 2020-07-06 2020-07-07   \n",
      "ticker                                              ...                         \n",
      "NIO           0.0        0.0        0.0        0.0  ...        0.0        0.0   \n",
      "\n",
      "                                                                          \\\n",
      "date   2020-07-08 2020-07-09 2020-07-10 2020-07-11 2020-07-13 2020-07-14   \n",
      "ticker                                                                     \n",
      "NIO        0.2018  -0.303967        0.0        0.0        0.0        0.0   \n",
      "\n",
      "                              \n",
      "date   2020-07-15 2020-07-16  \n",
      "ticker                        \n",
      "NIO           0.0    -0.1975  \n",
      "\n",
      "[1 rows x 140 columns]\n"
     ]
    }
   ],
   "source": [
    "# Group by date and ticker columns from scored_news and calculate the mean\n",
    "mean_scores = parsed_and_scored_news.groupby(['ticker','date']).mean()\n",
    "print(mean_scores)\n",
    "# Unstack the column ticker\n",
    "mean_scores = mean_scores.unstack()\n",
    "print(mean_scores)\n",
    "# Get the cross-section of compound in the 'columns' axis\n",
    "mean_scores = mean_scores.xs('compound', axis=\"columns\").transpose()"
   ]
  },
  {
   "cell_type": "code",
   "execution_count": 14,
   "metadata": {},
   "outputs": [
    {
     "data": {
      "application/vnd.plotly.v1+json": {
       "config": {
        "plotlyServerURL": "https://plot.ly"
       },
       "data": [
        {
         "marker": {
          "color": [
           0,
           0.06990000000000002,
           0.1909,
           0,
           0.06291428571428571,
           0.3368666666666667,
           0,
           0.09866666666666667,
           0.31486666666666663,
           0.32785,
           0.4322,
           0.296,
           0,
           0,
           0,
           0,
           0,
           0,
           0,
           0.36345,
           0.19705,
           0.2827,
           0.5859,
           0.12457499999999999,
           -0.34,
           0,
           0,
           0.20179999999999998,
           -0.30396666666666666,
           0,
           0,
           0,
           0,
           0,
           -0.1975
          ]
         },
         "name": "News sentiment",
         "type": "bar",
         "x": [
          "2020-05-27",
          "2020-05-28",
          "2020-06-01",
          "2020-06-03",
          "2020-06-04",
          "2020-06-05",
          "2020-06-08",
          "2020-06-09",
          "2020-06-10",
          "2020-06-11",
          "2020-06-12",
          "2020-06-15",
          "2020-06-16",
          "2020-06-17",
          "2020-06-18",
          "2020-06-19",
          "2020-06-22",
          "2020-06-24",
          "2020-06-25",
          "2020-06-26",
          "2020-06-29",
          "2020-06-30",
          "2020-07-01",
          "2020-07-02",
          "2020-07-03",
          "2020-07-06",
          "2020-07-07",
          "2020-07-08",
          "2020-07-09",
          "2020-07-10",
          "2020-07-11",
          "2020-07-13",
          "2020-07-14",
          "2020-07-15",
          "2020-07-16"
         ],
         "y": [
          0,
          0.06990000000000002,
          0.1909,
          0,
          0.06291428571428571,
          0.3368666666666667,
          0,
          0.09866666666666667,
          0.31486666666666663,
          0.32785,
          0.4322,
          0.296,
          0,
          0,
          0,
          0,
          0,
          0,
          0,
          0.36345,
          0.19705,
          0.2827,
          0.5859,
          0.12457499999999999,
          -0.34,
          0,
          0,
          0.20179999999999998,
          -0.30396666666666666,
          0,
          0,
          0,
          0,
          0,
          -0.1975
         ]
        },
        {
         "hovertemplate": "%{y:.2f}",
         "line": {
          "color": "Green"
         },
         "mode": "lines",
         "name": "NIO",
         "type": "scatter",
         "x": [
          "2020-06-04T00:00:00",
          "2020-06-05T00:00:00",
          "2020-06-08T00:00:00",
          "2020-06-09T00:00:00",
          "2020-06-10T00:00:00",
          "2020-06-11T00:00:00",
          "2020-06-12T00:00:00",
          "2020-06-15T00:00:00",
          "2020-06-16T00:00:00",
          "2020-06-17T00:00:00",
          "2020-06-18T00:00:00",
          "2020-06-19T00:00:00",
          "2020-06-22T00:00:00",
          "2020-06-23T00:00:00",
          "2020-06-24T00:00:00",
          "2020-06-25T00:00:00",
          "2020-06-26T00:00:00",
          "2020-06-29T00:00:00",
          "2020-06-30T00:00:00",
          "2020-07-01T00:00:00",
          "2020-07-02T00:00:00",
          "2020-07-06T00:00:00",
          "2020-07-07T00:00:00",
          "2020-07-08T00:00:00",
          "2020-07-09T00:00:00",
          "2020-07-10T00:00:00",
          "2020-07-13T00:00:00",
          "2020-07-14T00:00:00",
          "2020-07-15T00:00:00",
          "2020-07-16T00:00:00"
         ],
         "y": [
          5.97,
          5.59,
          5.97,
          6.68,
          6.3,
          5.91,
          6.1,
          6.83,
          6.99,
          6.84,
          7.18,
          7.34,
          7.43,
          7.23,
          6.86,
          7.08,
          6.9,
          7.23,
          7.72,
          7.91,
          9.38,
          11.51,
          13.22,
          12.88,
          14.57,
          14.98,
          13.84,
          14.09,
          13.52,
          12.94
         ],
         "yaxis": "y2"
        }
       ],
       "layout": {
        "hoverlabel": {
         "align": "right"
        },
        "hovermode": "x",
        "template": {
         "data": {
          "bar": [
           {
            "error_x": {
             "color": "#2a3f5f"
            },
            "error_y": {
             "color": "#2a3f5f"
            },
            "marker": {
             "line": {
              "color": "#E5ECF6",
              "width": 0.5
             }
            },
            "type": "bar"
           }
          ],
          "barpolar": [
           {
            "marker": {
             "line": {
              "color": "#E5ECF6",
              "width": 0.5
             }
            },
            "type": "barpolar"
           }
          ],
          "carpet": [
           {
            "aaxis": {
             "endlinecolor": "#2a3f5f",
             "gridcolor": "white",
             "linecolor": "white",
             "minorgridcolor": "white",
             "startlinecolor": "#2a3f5f"
            },
            "baxis": {
             "endlinecolor": "#2a3f5f",
             "gridcolor": "white",
             "linecolor": "white",
             "minorgridcolor": "white",
             "startlinecolor": "#2a3f5f"
            },
            "type": "carpet"
           }
          ],
          "choropleth": [
           {
            "colorbar": {
             "outlinewidth": 0,
             "ticks": ""
            },
            "type": "choropleth"
           }
          ],
          "contour": [
           {
            "colorbar": {
             "outlinewidth": 0,
             "ticks": ""
            },
            "colorscale": [
             [
              0,
              "#0d0887"
             ],
             [
              0.1111111111111111,
              "#46039f"
             ],
             [
              0.2222222222222222,
              "#7201a8"
             ],
             [
              0.3333333333333333,
              "#9c179e"
             ],
             [
              0.4444444444444444,
              "#bd3786"
             ],
             [
              0.5555555555555556,
              "#d8576b"
             ],
             [
              0.6666666666666666,
              "#ed7953"
             ],
             [
              0.7777777777777778,
              "#fb9f3a"
             ],
             [
              0.8888888888888888,
              "#fdca26"
             ],
             [
              1,
              "#f0f921"
             ]
            ],
            "type": "contour"
           }
          ],
          "contourcarpet": [
           {
            "colorbar": {
             "outlinewidth": 0,
             "ticks": ""
            },
            "type": "contourcarpet"
           }
          ],
          "heatmap": [
           {
            "colorbar": {
             "outlinewidth": 0,
             "ticks": ""
            },
            "colorscale": [
             [
              0,
              "#0d0887"
             ],
             [
              0.1111111111111111,
              "#46039f"
             ],
             [
              0.2222222222222222,
              "#7201a8"
             ],
             [
              0.3333333333333333,
              "#9c179e"
             ],
             [
              0.4444444444444444,
              "#bd3786"
             ],
             [
              0.5555555555555556,
              "#d8576b"
             ],
             [
              0.6666666666666666,
              "#ed7953"
             ],
             [
              0.7777777777777778,
              "#fb9f3a"
             ],
             [
              0.8888888888888888,
              "#fdca26"
             ],
             [
              1,
              "#f0f921"
             ]
            ],
            "type": "heatmap"
           }
          ],
          "heatmapgl": [
           {
            "colorbar": {
             "outlinewidth": 0,
             "ticks": ""
            },
            "colorscale": [
             [
              0,
              "#0d0887"
             ],
             [
              0.1111111111111111,
              "#46039f"
             ],
             [
              0.2222222222222222,
              "#7201a8"
             ],
             [
              0.3333333333333333,
              "#9c179e"
             ],
             [
              0.4444444444444444,
              "#bd3786"
             ],
             [
              0.5555555555555556,
              "#d8576b"
             ],
             [
              0.6666666666666666,
              "#ed7953"
             ],
             [
              0.7777777777777778,
              "#fb9f3a"
             ],
             [
              0.8888888888888888,
              "#fdca26"
             ],
             [
              1,
              "#f0f921"
             ]
            ],
            "type": "heatmapgl"
           }
          ],
          "histogram": [
           {
            "marker": {
             "colorbar": {
              "outlinewidth": 0,
              "ticks": ""
             }
            },
            "type": "histogram"
           }
          ],
          "histogram2d": [
           {
            "colorbar": {
             "outlinewidth": 0,
             "ticks": ""
            },
            "colorscale": [
             [
              0,
              "#0d0887"
             ],
             [
              0.1111111111111111,
              "#46039f"
             ],
             [
              0.2222222222222222,
              "#7201a8"
             ],
             [
              0.3333333333333333,
              "#9c179e"
             ],
             [
              0.4444444444444444,
              "#bd3786"
             ],
             [
              0.5555555555555556,
              "#d8576b"
             ],
             [
              0.6666666666666666,
              "#ed7953"
             ],
             [
              0.7777777777777778,
              "#fb9f3a"
             ],
             [
              0.8888888888888888,
              "#fdca26"
             ],
             [
              1,
              "#f0f921"
             ]
            ],
            "type": "histogram2d"
           }
          ],
          "histogram2dcontour": [
           {
            "colorbar": {
             "outlinewidth": 0,
             "ticks": ""
            },
            "colorscale": [
             [
              0,
              "#0d0887"
             ],
             [
              0.1111111111111111,
              "#46039f"
             ],
             [
              0.2222222222222222,
              "#7201a8"
             ],
             [
              0.3333333333333333,
              "#9c179e"
             ],
             [
              0.4444444444444444,
              "#bd3786"
             ],
             [
              0.5555555555555556,
              "#d8576b"
             ],
             [
              0.6666666666666666,
              "#ed7953"
             ],
             [
              0.7777777777777778,
              "#fb9f3a"
             ],
             [
              0.8888888888888888,
              "#fdca26"
             ],
             [
              1,
              "#f0f921"
             ]
            ],
            "type": "histogram2dcontour"
           }
          ],
          "mesh3d": [
           {
            "colorbar": {
             "outlinewidth": 0,
             "ticks": ""
            },
            "type": "mesh3d"
           }
          ],
          "parcoords": [
           {
            "line": {
             "colorbar": {
              "outlinewidth": 0,
              "ticks": ""
             }
            },
            "type": "parcoords"
           }
          ],
          "pie": [
           {
            "automargin": true,
            "type": "pie"
           }
          ],
          "scatter": [
           {
            "marker": {
             "colorbar": {
              "outlinewidth": 0,
              "ticks": ""
             }
            },
            "type": "scatter"
           }
          ],
          "scatter3d": [
           {
            "line": {
             "colorbar": {
              "outlinewidth": 0,
              "ticks": ""
             }
            },
            "marker": {
             "colorbar": {
              "outlinewidth": 0,
              "ticks": ""
             }
            },
            "type": "scatter3d"
           }
          ],
          "scattercarpet": [
           {
            "marker": {
             "colorbar": {
              "outlinewidth": 0,
              "ticks": ""
             }
            },
            "type": "scattercarpet"
           }
          ],
          "scattergeo": [
           {
            "marker": {
             "colorbar": {
              "outlinewidth": 0,
              "ticks": ""
             }
            },
            "type": "scattergeo"
           }
          ],
          "scattergl": [
           {
            "marker": {
             "colorbar": {
              "outlinewidth": 0,
              "ticks": ""
             }
            },
            "type": "scattergl"
           }
          ],
          "scattermapbox": [
           {
            "marker": {
             "colorbar": {
              "outlinewidth": 0,
              "ticks": ""
             }
            },
            "type": "scattermapbox"
           }
          ],
          "scatterpolar": [
           {
            "marker": {
             "colorbar": {
              "outlinewidth": 0,
              "ticks": ""
             }
            },
            "type": "scatterpolar"
           }
          ],
          "scatterpolargl": [
           {
            "marker": {
             "colorbar": {
              "outlinewidth": 0,
              "ticks": ""
             }
            },
            "type": "scatterpolargl"
           }
          ],
          "scatterternary": [
           {
            "marker": {
             "colorbar": {
              "outlinewidth": 0,
              "ticks": ""
             }
            },
            "type": "scatterternary"
           }
          ],
          "surface": [
           {
            "colorbar": {
             "outlinewidth": 0,
             "ticks": ""
            },
            "colorscale": [
             [
              0,
              "#0d0887"
             ],
             [
              0.1111111111111111,
              "#46039f"
             ],
             [
              0.2222222222222222,
              "#7201a8"
             ],
             [
              0.3333333333333333,
              "#9c179e"
             ],
             [
              0.4444444444444444,
              "#bd3786"
             ],
             [
              0.5555555555555556,
              "#d8576b"
             ],
             [
              0.6666666666666666,
              "#ed7953"
             ],
             [
              0.7777777777777778,
              "#fb9f3a"
             ],
             [
              0.8888888888888888,
              "#fdca26"
             ],
             [
              1,
              "#f0f921"
             ]
            ],
            "type": "surface"
           }
          ],
          "table": [
           {
            "cells": {
             "fill": {
              "color": "#EBF0F8"
             },
             "line": {
              "color": "white"
             }
            },
            "header": {
             "fill": {
              "color": "#C8D4E3"
             },
             "line": {
              "color": "white"
             }
            },
            "type": "table"
           }
          ]
         },
         "layout": {
          "annotationdefaults": {
           "arrowcolor": "#2a3f5f",
           "arrowhead": 0,
           "arrowwidth": 1
          },
          "coloraxis": {
           "colorbar": {
            "outlinewidth": 0,
            "ticks": ""
           }
          },
          "colorscale": {
           "diverging": [
            [
             0,
             "#8e0152"
            ],
            [
             0.1,
             "#c51b7d"
            ],
            [
             0.2,
             "#de77ae"
            ],
            [
             0.3,
             "#f1b6da"
            ],
            [
             0.4,
             "#fde0ef"
            ],
            [
             0.5,
             "#f7f7f7"
            ],
            [
             0.6,
             "#e6f5d0"
            ],
            [
             0.7,
             "#b8e186"
            ],
            [
             0.8,
             "#7fbc41"
            ],
            [
             0.9,
             "#4d9221"
            ],
            [
             1,
             "#276419"
            ]
           ],
           "sequential": [
            [
             0,
             "#0d0887"
            ],
            [
             0.1111111111111111,
             "#46039f"
            ],
            [
             0.2222222222222222,
             "#7201a8"
            ],
            [
             0.3333333333333333,
             "#9c179e"
            ],
            [
             0.4444444444444444,
             "#bd3786"
            ],
            [
             0.5555555555555556,
             "#d8576b"
            ],
            [
             0.6666666666666666,
             "#ed7953"
            ],
            [
             0.7777777777777778,
             "#fb9f3a"
            ],
            [
             0.8888888888888888,
             "#fdca26"
            ],
            [
             1,
             "#f0f921"
            ]
           ],
           "sequentialminus": [
            [
             0,
             "#0d0887"
            ],
            [
             0.1111111111111111,
             "#46039f"
            ],
            [
             0.2222222222222222,
             "#7201a8"
            ],
            [
             0.3333333333333333,
             "#9c179e"
            ],
            [
             0.4444444444444444,
             "#bd3786"
            ],
            [
             0.5555555555555556,
             "#d8576b"
            ],
            [
             0.6666666666666666,
             "#ed7953"
            ],
            [
             0.7777777777777778,
             "#fb9f3a"
            ],
            [
             0.8888888888888888,
             "#fdca26"
            ],
            [
             1,
             "#f0f921"
            ]
           ]
          },
          "colorway": [
           "#636efa",
           "#EF553B",
           "#00cc96",
           "#ab63fa",
           "#FFA15A",
           "#19d3f3",
           "#FF6692",
           "#B6E880",
           "#FF97FF",
           "#FECB52"
          ],
          "font": {
           "color": "#2a3f5f"
          },
          "geo": {
           "bgcolor": "white",
           "lakecolor": "white",
           "landcolor": "#E5ECF6",
           "showlakes": true,
           "showland": true,
           "subunitcolor": "white"
          },
          "hoverlabel": {
           "align": "left"
          },
          "hovermode": "closest",
          "mapbox": {
           "style": "light"
          },
          "paper_bgcolor": "white",
          "plot_bgcolor": "#E5ECF6",
          "polar": {
           "angularaxis": {
            "gridcolor": "white",
            "linecolor": "white",
            "ticks": ""
           },
           "bgcolor": "#E5ECF6",
           "radialaxis": {
            "gridcolor": "white",
            "linecolor": "white",
            "ticks": ""
           }
          },
          "scene": {
           "xaxis": {
            "backgroundcolor": "#E5ECF6",
            "gridcolor": "white",
            "gridwidth": 2,
            "linecolor": "white",
            "showbackground": true,
            "ticks": "",
            "zerolinecolor": "white"
           },
           "yaxis": {
            "backgroundcolor": "#E5ECF6",
            "gridcolor": "white",
            "gridwidth": 2,
            "linecolor": "white",
            "showbackground": true,
            "ticks": "",
            "zerolinecolor": "white"
           },
           "zaxis": {
            "backgroundcolor": "#E5ECF6",
            "gridcolor": "white",
            "gridwidth": 2,
            "linecolor": "white",
            "showbackground": true,
            "ticks": "",
            "zerolinecolor": "white"
           }
          },
          "shapedefaults": {
           "line": {
            "color": "#2a3f5f"
           }
          },
          "ternary": {
           "aaxis": {
            "gridcolor": "white",
            "linecolor": "white",
            "ticks": ""
           },
           "baxis": {
            "gridcolor": "white",
            "linecolor": "white",
            "ticks": ""
           },
           "bgcolor": "#E5ECF6",
           "caxis": {
            "gridcolor": "white",
            "linecolor": "white",
            "ticks": ""
           }
          },
          "title": {
           "x": 0.05
          },
          "xaxis": {
           "automargin": true,
           "gridcolor": "white",
           "linecolor": "white",
           "ticks": "",
           "title": {
            "standoff": 15
           },
           "zerolinecolor": "white",
           "zerolinewidth": 2
          },
          "yaxis": {
           "automargin": true,
           "gridcolor": "white",
           "linecolor": "white",
           "ticks": "",
           "title": {
            "standoff": 15
           },
           "zerolinecolor": "white",
           "zerolinewidth": 2
          }
         }
        },
        "yaxis2": {
         "overlaying": "y",
         "showgrid": false,
         "side": "right",
         "title": {
          "text": "NIO"
         }
        }
       }
      },
      "text/html": [
       "<div>\n",
       "        \n",
       "        \n",
       "            <div id=\"726353be-5185-418e-8fa4-091f983604ad\" class=\"plotly-graph-div\" style=\"height:525px; width:100%;\"></div>\n",
       "            <script type=\"text/javascript\">\n",
       "                require([\"plotly\"], function(Plotly) {\n",
       "                    window.PLOTLYENV=window.PLOTLYENV || {};\n",
       "                    \n",
       "                if (document.getElementById(\"726353be-5185-418e-8fa4-091f983604ad\")) {\n",
       "                    Plotly.newPlot(\n",
       "                        '726353be-5185-418e-8fa4-091f983604ad',\n",
       "                        [{\"marker\": {\"color\": [0.0, 0.06990000000000002, 0.1909, 0.0, 0.06291428571428571, 0.3368666666666667, 0.0, 0.09866666666666667, 0.31486666666666663, 0.32785, 0.4322, 0.296, 0.0, 0.0, 0.0, 0.0, 0.0, 0.0, 0.0, 0.36345, 0.19705, 0.2827, 0.5859, 0.12457499999999999, -0.34, 0.0, 0.0, 0.20179999999999998, -0.30396666666666666, 0.0, 0.0, 0.0, 0.0, 0.0, -0.1975]}, \"name\": \"News sentiment\", \"type\": \"bar\", \"x\": [\"2020-05-27\", \"2020-05-28\", \"2020-06-01\", \"2020-06-03\", \"2020-06-04\", \"2020-06-05\", \"2020-06-08\", \"2020-06-09\", \"2020-06-10\", \"2020-06-11\", \"2020-06-12\", \"2020-06-15\", \"2020-06-16\", \"2020-06-17\", \"2020-06-18\", \"2020-06-19\", \"2020-06-22\", \"2020-06-24\", \"2020-06-25\", \"2020-06-26\", \"2020-06-29\", \"2020-06-30\", \"2020-07-01\", \"2020-07-02\", \"2020-07-03\", \"2020-07-06\", \"2020-07-07\", \"2020-07-08\", \"2020-07-09\", \"2020-07-10\", \"2020-07-11\", \"2020-07-13\", \"2020-07-14\", \"2020-07-15\", \"2020-07-16\"], \"y\": [0.0, 0.06990000000000002, 0.1909, 0.0, 0.06291428571428571, 0.3368666666666667, 0.0, 0.09866666666666667, 0.31486666666666663, 0.32785, 0.4322, 0.296, 0.0, 0.0, 0.0, 0.0, 0.0, 0.0, 0.0, 0.36345, 0.19705, 0.2827, 0.5859, 0.12457499999999999, -0.34, 0.0, 0.0, 0.20179999999999998, -0.30396666666666666, 0.0, 0.0, 0.0, 0.0, 0.0, -0.1975]}, {\"hovertemplate\": \"%{y:.2f}\", \"line\": {\"color\": \"Green\"}, \"mode\": \"lines\", \"name\": \"NIO\", \"type\": \"scatter\", \"x\": [\"2020-06-04T00:00:00\", \"2020-06-05T00:00:00\", \"2020-06-08T00:00:00\", \"2020-06-09T00:00:00\", \"2020-06-10T00:00:00\", \"2020-06-11T00:00:00\", \"2020-06-12T00:00:00\", \"2020-06-15T00:00:00\", \"2020-06-16T00:00:00\", \"2020-06-17T00:00:00\", \"2020-06-18T00:00:00\", \"2020-06-19T00:00:00\", \"2020-06-22T00:00:00\", \"2020-06-23T00:00:00\", \"2020-06-24T00:00:00\", \"2020-06-25T00:00:00\", \"2020-06-26T00:00:00\", \"2020-06-29T00:00:00\", \"2020-06-30T00:00:00\", \"2020-07-01T00:00:00\", \"2020-07-02T00:00:00\", \"2020-07-06T00:00:00\", \"2020-07-07T00:00:00\", \"2020-07-08T00:00:00\", \"2020-07-09T00:00:00\", \"2020-07-10T00:00:00\", \"2020-07-13T00:00:00\", \"2020-07-14T00:00:00\", \"2020-07-15T00:00:00\", \"2020-07-16T00:00:00\"], \"y\": [5.97, 5.59, 5.97, 6.68, 6.3, 5.91, 6.1, 6.83, 6.99, 6.84, 7.18, 7.34, 7.43, 7.23, 6.86, 7.08, 6.9, 7.23, 7.72, 7.91, 9.38, 11.51, 13.22, 12.88, 14.57, 14.98, 13.84, 14.09, 13.52, 12.94], \"yaxis\": \"y2\"}],\n",
       "                        {\"hoverlabel\": {\"align\": \"right\"}, \"hovermode\": \"x\", \"template\": {\"data\": {\"bar\": [{\"error_x\": {\"color\": \"#2a3f5f\"}, \"error_y\": {\"color\": \"#2a3f5f\"}, \"marker\": {\"line\": {\"color\": \"#E5ECF6\", \"width\": 0.5}}, \"type\": \"bar\"}], \"barpolar\": [{\"marker\": {\"line\": {\"color\": \"#E5ECF6\", \"width\": 0.5}}, \"type\": \"barpolar\"}], \"carpet\": [{\"aaxis\": {\"endlinecolor\": \"#2a3f5f\", \"gridcolor\": \"white\", \"linecolor\": \"white\", \"minorgridcolor\": \"white\", \"startlinecolor\": \"#2a3f5f\"}, \"baxis\": {\"endlinecolor\": \"#2a3f5f\", \"gridcolor\": \"white\", \"linecolor\": \"white\", \"minorgridcolor\": \"white\", \"startlinecolor\": \"#2a3f5f\"}, \"type\": \"carpet\"}], \"choropleth\": [{\"colorbar\": {\"outlinewidth\": 0, \"ticks\": \"\"}, \"type\": \"choropleth\"}], \"contour\": [{\"colorbar\": {\"outlinewidth\": 0, \"ticks\": \"\"}, \"colorscale\": [[0.0, \"#0d0887\"], [0.1111111111111111, \"#46039f\"], [0.2222222222222222, \"#7201a8\"], [0.3333333333333333, \"#9c179e\"], [0.4444444444444444, \"#bd3786\"], [0.5555555555555556, \"#d8576b\"], [0.6666666666666666, \"#ed7953\"], [0.7777777777777778, \"#fb9f3a\"], [0.8888888888888888, \"#fdca26\"], [1.0, \"#f0f921\"]], \"type\": \"contour\"}], \"contourcarpet\": [{\"colorbar\": {\"outlinewidth\": 0, \"ticks\": \"\"}, \"type\": \"contourcarpet\"}], \"heatmap\": [{\"colorbar\": {\"outlinewidth\": 0, \"ticks\": \"\"}, \"colorscale\": [[0.0, \"#0d0887\"], [0.1111111111111111, \"#46039f\"], [0.2222222222222222, \"#7201a8\"], [0.3333333333333333, \"#9c179e\"], [0.4444444444444444, \"#bd3786\"], [0.5555555555555556, \"#d8576b\"], [0.6666666666666666, \"#ed7953\"], [0.7777777777777778, \"#fb9f3a\"], [0.8888888888888888, \"#fdca26\"], [1.0, \"#f0f921\"]], \"type\": \"heatmap\"}], \"heatmapgl\": [{\"colorbar\": {\"outlinewidth\": 0, \"ticks\": \"\"}, \"colorscale\": [[0.0, \"#0d0887\"], [0.1111111111111111, \"#46039f\"], [0.2222222222222222, \"#7201a8\"], [0.3333333333333333, \"#9c179e\"], [0.4444444444444444, \"#bd3786\"], [0.5555555555555556, \"#d8576b\"], [0.6666666666666666, \"#ed7953\"], [0.7777777777777778, \"#fb9f3a\"], [0.8888888888888888, \"#fdca26\"], [1.0, \"#f0f921\"]], \"type\": \"heatmapgl\"}], \"histogram\": [{\"marker\": {\"colorbar\": {\"outlinewidth\": 0, \"ticks\": \"\"}}, \"type\": \"histogram\"}], \"histogram2d\": [{\"colorbar\": {\"outlinewidth\": 0, \"ticks\": \"\"}, \"colorscale\": [[0.0, \"#0d0887\"], [0.1111111111111111, \"#46039f\"], [0.2222222222222222, \"#7201a8\"], [0.3333333333333333, \"#9c179e\"], [0.4444444444444444, \"#bd3786\"], [0.5555555555555556, \"#d8576b\"], [0.6666666666666666, \"#ed7953\"], [0.7777777777777778, \"#fb9f3a\"], [0.8888888888888888, \"#fdca26\"], [1.0, \"#f0f921\"]], \"type\": \"histogram2d\"}], \"histogram2dcontour\": [{\"colorbar\": {\"outlinewidth\": 0, \"ticks\": \"\"}, \"colorscale\": [[0.0, \"#0d0887\"], [0.1111111111111111, \"#46039f\"], [0.2222222222222222, \"#7201a8\"], [0.3333333333333333, \"#9c179e\"], [0.4444444444444444, \"#bd3786\"], [0.5555555555555556, \"#d8576b\"], [0.6666666666666666, \"#ed7953\"], [0.7777777777777778, \"#fb9f3a\"], [0.8888888888888888, \"#fdca26\"], [1.0, \"#f0f921\"]], \"type\": \"histogram2dcontour\"}], \"mesh3d\": [{\"colorbar\": {\"outlinewidth\": 0, \"ticks\": \"\"}, \"type\": \"mesh3d\"}], \"parcoords\": [{\"line\": {\"colorbar\": {\"outlinewidth\": 0, \"ticks\": \"\"}}, \"type\": \"parcoords\"}], \"pie\": [{\"automargin\": true, \"type\": \"pie\"}], \"scatter\": [{\"marker\": {\"colorbar\": {\"outlinewidth\": 0, \"ticks\": \"\"}}, \"type\": \"scatter\"}], \"scatter3d\": [{\"line\": {\"colorbar\": {\"outlinewidth\": 0, \"ticks\": \"\"}}, \"marker\": {\"colorbar\": {\"outlinewidth\": 0, \"ticks\": \"\"}}, \"type\": \"scatter3d\"}], \"scattercarpet\": [{\"marker\": {\"colorbar\": {\"outlinewidth\": 0, \"ticks\": \"\"}}, \"type\": \"scattercarpet\"}], \"scattergeo\": [{\"marker\": {\"colorbar\": {\"outlinewidth\": 0, \"ticks\": \"\"}}, \"type\": \"scattergeo\"}], \"scattergl\": [{\"marker\": {\"colorbar\": {\"outlinewidth\": 0, \"ticks\": \"\"}}, \"type\": \"scattergl\"}], \"scattermapbox\": [{\"marker\": {\"colorbar\": {\"outlinewidth\": 0, \"ticks\": \"\"}}, \"type\": \"scattermapbox\"}], \"scatterpolar\": [{\"marker\": {\"colorbar\": {\"outlinewidth\": 0, \"ticks\": \"\"}}, \"type\": \"scatterpolar\"}], \"scatterpolargl\": [{\"marker\": {\"colorbar\": {\"outlinewidth\": 0, \"ticks\": \"\"}}, \"type\": \"scatterpolargl\"}], \"scatterternary\": [{\"marker\": {\"colorbar\": {\"outlinewidth\": 0, \"ticks\": \"\"}}, \"type\": \"scatterternary\"}], \"surface\": [{\"colorbar\": {\"outlinewidth\": 0, \"ticks\": \"\"}, \"colorscale\": [[0.0, \"#0d0887\"], [0.1111111111111111, \"#46039f\"], [0.2222222222222222, \"#7201a8\"], [0.3333333333333333, \"#9c179e\"], [0.4444444444444444, \"#bd3786\"], [0.5555555555555556, \"#d8576b\"], [0.6666666666666666, \"#ed7953\"], [0.7777777777777778, \"#fb9f3a\"], [0.8888888888888888, \"#fdca26\"], [1.0, \"#f0f921\"]], \"type\": \"surface\"}], \"table\": [{\"cells\": {\"fill\": {\"color\": \"#EBF0F8\"}, \"line\": {\"color\": \"white\"}}, \"header\": {\"fill\": {\"color\": \"#C8D4E3\"}, \"line\": {\"color\": \"white\"}}, \"type\": \"table\"}]}, \"layout\": {\"annotationdefaults\": {\"arrowcolor\": \"#2a3f5f\", \"arrowhead\": 0, \"arrowwidth\": 1}, \"coloraxis\": {\"colorbar\": {\"outlinewidth\": 0, \"ticks\": \"\"}}, \"colorscale\": {\"diverging\": [[0, \"#8e0152\"], [0.1, \"#c51b7d\"], [0.2, \"#de77ae\"], [0.3, \"#f1b6da\"], [0.4, \"#fde0ef\"], [0.5, \"#f7f7f7\"], [0.6, \"#e6f5d0\"], [0.7, \"#b8e186\"], [0.8, \"#7fbc41\"], [0.9, \"#4d9221\"], [1, \"#276419\"]], \"sequential\": [[0.0, \"#0d0887\"], [0.1111111111111111, \"#46039f\"], [0.2222222222222222, \"#7201a8\"], [0.3333333333333333, \"#9c179e\"], [0.4444444444444444, \"#bd3786\"], [0.5555555555555556, \"#d8576b\"], [0.6666666666666666, \"#ed7953\"], [0.7777777777777778, \"#fb9f3a\"], [0.8888888888888888, \"#fdca26\"], [1.0, \"#f0f921\"]], \"sequentialminus\": [[0.0, \"#0d0887\"], [0.1111111111111111, \"#46039f\"], [0.2222222222222222, \"#7201a8\"], [0.3333333333333333, \"#9c179e\"], [0.4444444444444444, \"#bd3786\"], [0.5555555555555556, \"#d8576b\"], [0.6666666666666666, \"#ed7953\"], [0.7777777777777778, \"#fb9f3a\"], [0.8888888888888888, \"#fdca26\"], [1.0, \"#f0f921\"]]}, \"colorway\": [\"#636efa\", \"#EF553B\", \"#00cc96\", \"#ab63fa\", \"#FFA15A\", \"#19d3f3\", \"#FF6692\", \"#B6E880\", \"#FF97FF\", \"#FECB52\"], \"font\": {\"color\": \"#2a3f5f\"}, \"geo\": {\"bgcolor\": \"white\", \"lakecolor\": \"white\", \"landcolor\": \"#E5ECF6\", \"showlakes\": true, \"showland\": true, \"subunitcolor\": \"white\"}, \"hoverlabel\": {\"align\": \"left\"}, \"hovermode\": \"closest\", \"mapbox\": {\"style\": \"light\"}, \"paper_bgcolor\": \"white\", \"plot_bgcolor\": \"#E5ECF6\", \"polar\": {\"angularaxis\": {\"gridcolor\": \"white\", \"linecolor\": \"white\", \"ticks\": \"\"}, \"bgcolor\": \"#E5ECF6\", \"radialaxis\": {\"gridcolor\": \"white\", \"linecolor\": \"white\", \"ticks\": \"\"}}, \"scene\": {\"xaxis\": {\"backgroundcolor\": \"#E5ECF6\", \"gridcolor\": \"white\", \"gridwidth\": 2, \"linecolor\": \"white\", \"showbackground\": true, \"ticks\": \"\", \"zerolinecolor\": \"white\"}, \"yaxis\": {\"backgroundcolor\": \"#E5ECF6\", \"gridcolor\": \"white\", \"gridwidth\": 2, \"linecolor\": \"white\", \"showbackground\": true, \"ticks\": \"\", \"zerolinecolor\": \"white\"}, \"zaxis\": {\"backgroundcolor\": \"#E5ECF6\", \"gridcolor\": \"white\", \"gridwidth\": 2, \"linecolor\": \"white\", \"showbackground\": true, \"ticks\": \"\", \"zerolinecolor\": \"white\"}}, \"shapedefaults\": {\"line\": {\"color\": \"#2a3f5f\"}}, \"ternary\": {\"aaxis\": {\"gridcolor\": \"white\", \"linecolor\": \"white\", \"ticks\": \"\"}, \"baxis\": {\"gridcolor\": \"white\", \"linecolor\": \"white\", \"ticks\": \"\"}, \"bgcolor\": \"#E5ECF6\", \"caxis\": {\"gridcolor\": \"white\", \"linecolor\": \"white\", \"ticks\": \"\"}}, \"title\": {\"x\": 0.05}, \"xaxis\": {\"automargin\": true, \"gridcolor\": \"white\", \"linecolor\": \"white\", \"ticks\": \"\", \"title\": {\"standoff\": 15}, \"zerolinecolor\": \"white\", \"zerolinewidth\": 2}, \"yaxis\": {\"automargin\": true, \"gridcolor\": \"white\", \"linecolor\": \"white\", \"ticks\": \"\", \"title\": {\"standoff\": 15}, \"zerolinecolor\": \"white\", \"zerolinewidth\": 2}}}, \"yaxis2\": {\"overlaying\": \"y\", \"showgrid\": false, \"side\": \"right\", \"title\": {\"text\": \"NIO\"}}},\n",
       "                        {\"responsive\": true}\n",
       "                    ).then(function(){\n",
       "                            \n",
       "var gd = document.getElementById('726353be-5185-418e-8fa4-091f983604ad');\n",
       "var x = new MutationObserver(function (mutations, observer) {{\n",
       "        var display = window.getComputedStyle(gd).display;\n",
       "        if (!display || display === 'none') {{\n",
       "            console.log([gd, 'removed!']);\n",
       "            Plotly.purge(gd);\n",
       "            observer.disconnect();\n",
       "        }}\n",
       "}});\n",
       "\n",
       "// Listen for the removal of the full notebook cells\n",
       "var notebookContainer = gd.closest('#notebook-container');\n",
       "if (notebookContainer) {{\n",
       "    x.observe(notebookContainer, {childList: true});\n",
       "}}\n",
       "\n",
       "// Listen for the clearing of the current output cell\n",
       "var outputEl = gd.closest('.output');\n",
       "if (outputEl) {{\n",
       "    x.observe(outputEl, {childList: true});\n",
       "}}\n",
       "\n",
       "                        })\n",
       "                };\n",
       "                });\n",
       "            </script>\n",
       "        </div>"
      ]
     },
     "metadata": {},
     "output_type": "display_data"
    }
   ],
   "source": [
    "import yfinance as yf\n",
    "\n",
    "prices = yf.Ticker('NIO').history(period='30d', interval='1d')\n",
    "fig0 = go.Figure(\n",
    "                go.Bar(\n",
    "                        x=mean_scores.index,\n",
    "                        y=mean_scores['NIO'],\n",
    "#                         yaxis='y2',\n",
    "                        name='News sentiment',\n",
    "                        marker_color=mean_scores['NIO']\n",
    "                        )\n",
    "                )\n",
    "fig0.add_trace(\n",
    "                go.Scatter(\n",
    "                            x=prices.index,\n",
    "                            y=prices['Close'],\n",
    "                            mode='lines',\n",
    "                            yaxis='y2',\n",
    "                            name='NIO',\n",
    "                            line=go.scatter.Line(color='Green'),\n",
    "                            hovertemplate='%{y:.2f}',\n",
    "\n",
    "                            )\n",
    "                )\n",
    "\n",
    "fig0.update_layout(\n",
    "                    hovermode='x',\n",
    "                    hoverlabel_align='right',\n",
    "                    yaxis2=dict(\n",
    "                                title='NIO',\n",
    "                                overlaying='y',\n",
    "                                side='right',\n",
    "                                showgrid=False,\n",
    "                                ),\n",
    "                    \n",
    "                    )\n",
    "\n",
    "fig0.show()"
   ]
  }
 ],
 "metadata": {
  "kernelspec": {
   "display_name": "Python 3",
   "language": "python",
   "name": "python3"
  }
 },
 "nbformat": 4,
 "nbformat_minor": 4
}
